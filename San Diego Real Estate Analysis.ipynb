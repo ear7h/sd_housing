{
 "cells": [
  {
   "cell_type": "markdown",
   "metadata": {},
   "source": [
    "# San Diego Real Estate Analysis\n",
    "\n",
    "This notebook will explore the San Diego housing market using data pulled from Zillow on 2 October 2017.\n",
    "\n",
    "__Do note that this information is mostly for homes on sale.__"
   ]
  },
  {
   "cell_type": "markdown",
   "metadata": {},
   "source": [
    "Imports are pretty straight forward.\n",
    "CSV parser, numpy for working with number lists, and matplotlib for visualizations."
   ]
  },
  {
   "cell_type": "code",
   "execution_count": 1,
   "metadata": {
    "collapsed": true
   },
   "outputs": [],
   "source": [
    "import csv\n",
    "import numpy as np\n",
    "import matplotlib.pyplot as plt"
   ]
  },
  {
   "cell_type": "markdown",
   "metadata": {},
   "source": [
    "A list is initialized and populated using the csv file.\n",
    "The CSV file is formatted as follows:"
   ]
  },
  {
   "cell_type": "markdown",
   "metadata": {},
   "source": [
    "|address|city|state|zip|price|sqft|bedrooms|bathrooms|days_on_zillow|sale_type|url|\n",
    "|-|-|-|-|-|-|-|-|-|-|-|\n",
    "|2100 Rebecca Way|Lemon Grove|CA|91945|449000|1507.0|3.0|3.0|NA|House For Sale|http://www.zillow.com/homes/for_sale//homedetails/2100-Rebecca-Way-Lemon-Grove-CA-91945/80620236_zpid/|\n",
    "|2130 Eldora St|Lemon Grove|CA|91945|429000|1532.0|3.0|2.0|NA|House For Sale|http://www.zillow.com/homes/for_sale//homedetails/2130-Eldora-St-Lemon-Grove-CA-91945/17113419_zpid/|"
   ]
  },
  {
   "cell_type": "code",
   "execution_count": 2,
   "metadata": {
    "collapsed": true
   },
   "outputs": [],
   "source": [
    "listings = []\n",
    "with open('composition.csv') as data:\n",
    "    reader = csv.DictReader(data, delimiter=',')\n",
    "    for row in reader:\n",
    "        listings.append(row)"
   ]
  },
  {
   "cell_type": "markdown",
   "metadata": {},
   "source": [
    "Some listings do not have an associated price, this function will simply make the script more legible within filter functions."
   ]
  },
  {
   "cell_type": "code",
   "execution_count": 3,
   "metadata": {
    "collapsed": true
   },
   "outputs": [],
   "source": [
    "def has_price(listing):\n",
    "    return listing['price'] != 'NA'"
   ]
  },
  {
   "cell_type": "markdown",
   "metadata": {},
   "source": [
    "Inline import statements aren't conventional but the formatter import is obscure. The following block of code creates some functions which make formatting of the graphs easier to read."
   ]
  },
  {
   "cell_type": "code",
   "execution_count": 4,
   "metadata": {},
   "outputs": [],
   "source": [
    "from matplotlib.ticker import FuncFormatter\n",
    "\n",
    "def millions(x, pos):\n",
    "    'The two args are the value and tick position'\n",
    "    return '$%.1fM' % (x*1e-6)\n",
    "\n",
    "def thousands(x, pos):\n",
    "    'The two args are the value and tick position'\n",
    "    return '$%.1f' % (x*1e-5)\n",
    "\n",
    "def formaty_mil(plot):\n",
    "    fig, ax = plot.subplots()\n",
    "    ax.yaxis.set_major_formatter(FuncFormatter(millions))\n",
    "\n",
    "def formatx_mil(plot):\n",
    "    fig, ax = plot.subplots()\n",
    "    ax.xaxis.set_major_formatter(FuncFormatter(millions))\n",
    "\n",
    "def formaty_100k(plot):\n",
    "    fig, ax = plot.subplots()\n",
    "    ax.yaxis.set_major_formatter(FuncFormatter(thousands))\n",
    "    \n",
    "def formatx_100k(plot):\n",
    "    fig, ax = plot.subplots()\n",
    "    ax.xaxis.set_major_formatter(FuncFormatter(thousands))\n",
    "    "
   ]
  },
  {
   "cell_type": "markdown",
   "metadata": {},
   "source": [
    "Let's start with a simple boxplot, with no special treatment of outliers"
   ]
  },
  {
   "cell_type": "code",
   "execution_count": 5,
   "metadata": {
    "scrolled": false
   },
   "outputs": [
    {
     "data": {
      "image/png": "[encoded data removed]",
      "text/plain": [
       "<matplotlib.figure.Figure at 0x10c1fb908>"
      ]
     },
     "metadata": {},
     "output_type": "display_data"
    }
   ],
   "source": [
    "# set formating\n",
    "formaty_mil(plt)\n",
    "\n",
    "# get all prices that exist\n",
    "all_prices = [float(listing['price']) for listing in listings if has_price(listing)]\n",
    "\n",
    "plt.boxplot(all_prices, whis='range')\n",
    "plt.ylabel('price')\n",
    "plt.show()\n"
   ]
  },
  {
   "cell_type": "markdown",
   "metadata": {},
   "source": [
    "This box plot almost seems like a mistake. But uppon furter inspection, it exists..."
   ]
  },
  {
   "cell_type": "code",
   "execution_count": 6,
   "metadata": {},
   "outputs": [
    {
     "data": {
      "text/plain": [
       "[OrderedDict([('address', '17111 El Vuelo'),\n",
       "              ('city', 'RANCHO SANTA FE'),\n",
       "              ('state', 'CA'),\n",
       "              ('zip', '92067'),\n",
       "              ('price', '44975000'),\n",
       "              ('sqft', '23500.0'),\n",
       "              ('bedrooms', '6.0'),\n",
       "              ('bathrooms', '11.0'),\n",
       "              ('days_on_zillow', 'NA'),\n",
       "              ('sale_type', 'House For Sale'),\n",
       "              ('url',\n",
       "               'http://www.zillow.com/homes/for_sale//homedetails/17111-El-Vuelo-Rancho-Santa-Fe-CA-92067/16732045_zpid/')])]"
      ]
     },
     "execution_count": 6,
     "metadata": {},
     "output_type": "execute_result"
    }
   ],
   "source": [
    "def search_by_price(price):\n",
    "    ret = []\n",
    "    for listing in listings:\n",
    "        if has_price(listing) and float(listing['price']) == price:\n",
    "            ret.append(listing)\n",
    "    return ret\n",
    "\n",
    "search_by_price(max(all_prices))"
   ]
  },
  {
   "cell_type": "markdown",
   "metadata": {},
   "source": [
    "A 23,500 sqft *house* in Rancho Santa Fe. More bathrooms than you could possibly use in a day and enough bedrooms for a boy scout camp. If your pockets need a diet you can check the listing [here](https://www.zillow.com/homes/for_sale//homedetails/17111-El-Vuelo-Rancho-Santa-Fe-CA-92067/16732045_zpid/)."
   ]
  },
  {
   "cell_type": "markdown",
   "metadata": {},
   "source": [
    "Here is anothere perspective at how expensive this house is."
   ]
  },
  {
   "cell_type": "code",
   "execution_count": 7,
   "metadata": {},
   "outputs": [
    {
     "data": {
      "image/png": "[encoded data removed]",
      "text/plain": [
       "<matplotlib.figure.Figure at 0x10c2d93c8>"
      ]
     },
     "metadata": {},
     "output_type": "display_data"
    }
   ],
   "source": [
    "formatx_mil(plt)\n",
    "\n",
    "plt.hist(all_prices, 100)\n",
    "plt.show()"
   ]
  },
  {
   "cell_type": "markdown",
   "metadata": {},
   "source": [
    "With this histogram a few other ouliers can be seen above $10 Million. Let's try to filter the outliers so we can get a perspective of normal people.\n",
    "\n",
    "Firstly we need to define 'normal', and generally that is done using the `mean`. Once we have that we can also find out how unusual something is using the `standard deviation`."
   ]
  },
  {
   "cell_type": "code",
   "execution_count": 8,
   "metadata": {},
   "outputs": [
    {
     "name": "stdout",
     "output_type": "stream",
     "text": [
      "median: $734,450.0\n",
      "mean: $1,425,830\n",
      "stddev: $2,221,362\n"
     ]
    }
   ],
   "source": [
    "# convert the array of prices to numpy for future continuity\n",
    "all_prices = np.array(all_prices)\n",
    "\n",
    "# median since we're here\n",
    "price_median = np.median(all_prices)\n",
    "print('median: ${:,}'.format(price_median))\n",
    "# mean using numpy\n",
    "price_mean = np.mean(all_prices)\n",
    "print('mean: ${:,.0f}'.format(price_mean))\n",
    "# std dev using numpy\n",
    "price_stddev = np.std(all_prices)\n",
    "print('stddev: ${:,.0f}'.format(price_stddev))"
   ]
  },
  {
   "cell_type": "code",
   "execution_count": 9,
   "metadata": {},
   "outputs": [
    {
     "name": "stdout",
     "output_type": "stream",
     "text": [
      "deviation of maximum: 19.604716\n"
     ]
    }
   ],
   "source": [
    "# calculate how many standard deviations the house on El Vuelo is from the mean\n",
    "dev_of_max = (max(all_prices) - price_mean) / price_stddev\n",
    "print('deviation of maximum: {:f}'.format(dev_of_max))"
   ]
  },
  {
   "cell_type": "markdown",
   "metadata": {},
   "source": [
    "## Making Data Relevant\n",
    "Sure enough, this house is outrageaously expensive; 19 standard deviations from the mean. Also notice that there can be no houses more than one standard deviation to the left of the mean. This makes it difficult to analyze the more affordable homes. Let's try to create a relevant histogram for the average homebuyer, one which the mean is close to the median and we can get at least 2 standard deviations from the mean in both sides."
   ]
  },
  {
   "cell_type": "code",
   "execution_count": 10,
   "metadata": {},
   "outputs": [
    {
     "name": "stdout",
     "output_type": "stream",
     "text": [
      "bottom 99%\n",
      "max: $10,500,000.0\n",
      "min: $30,000.0\n",
      "median: $720,870.0\n",
      "mean: $1,269,896\n",
      "stddev: $1,430,298\n",
      "\n",
      "bottom 95%\n",
      "max: $4,550,000.0\n",
      "min: $30,000.0\n",
      "median: $695,000.0\n",
      "mean: $1,049,175\n",
      "stddev: $910,590\n",
      "\n",
      "bottom 90%\n",
      "max: $3,185,000.0\n",
      "min: $30,000.0\n",
      "median: $660,000.0\n",
      "mean: $899,341\n",
      "stddev: $663,637\n",
      "\n",
      "bottom 85%\n",
      "max: $2,399,000.0\n",
      "min: $30,000.0\n",
      "median: $639,000.0\n",
      "mean: $792,673\n",
      "stddev: $508,234\n",
      "\n",
      "bottom 80%\n",
      "max: $1,825,000.0\n",
      "min: $30,000.0\n",
      "median: $599,999.0\n",
      "mean: $711,293\n",
      "stddev: $400,505\n",
      "\n",
      "bottom 75%\n",
      "max: $1,499,000.0\n",
      "min: $30,000.0\n",
      "median: $579,000.0\n",
      "mean: $648,457\n",
      "stddev: $327,167\n",
      "\n"
     ]
    }
   ],
   "source": [
    "# sort the prices\n",
    "all_prices = np.sort(all_prices)\n",
    "\n",
    "for i in [0.99, 0.95, 0.9, 0.85, 0.8, 0.75]:\n",
    "    trimed_prices = all_prices[:int(len(all_prices)*i)]\n",
    "    #make i a percent\n",
    "    i = i * 100\n",
    "    \n",
    "    print(\"bottom {:.0f}%\".format(i))\n",
    "    # max\n",
    "    price_max = max(trimed_prices)\n",
    "    print('max: ${:,}'.format(price_max))\n",
    "    # min\n",
    "    price_min = min(trimed_prices)\n",
    "    print('min: ${:,}'.format(price_min))\n",
    "    # median\n",
    "    price_median = np.median(trimed_prices)\n",
    "    print('median: ${:,}'.format(price_median))\n",
    "    # mean using numpy\n",
    "    price_mean = np.mean(trimed_prices)\n",
    "    print('mean: ${:,.0f}'.format(price_mean))\n",
    "    # std dev using numpy\n",
    "    price_stddev = np.std(trimed_prices)\n",
    "    print('stddev: ${:,.0f}\\n'.format(price_stddev))"
   ]
  },
  {
   "cell_type": "markdown",
   "metadata": {},
   "source": [
    "Looks like the bottom 80% will be the sweet spot, going any lower will cut off too much data. Keep in mind we're only excluding some data for the purpose of making it relevant to the average homebuyer. It can no longer be used to represent the population (San Diego). That does not keep it from being a valid numerical analysis, it just has a different purpose, showing how many houses are affordable to the average homebuyer."
   ]
  },
  {
   "cell_type": "code",
   "execution_count": 11,
   "metadata": {
    "scrolled": true
   },
   "outputs": [
    {
     "data": {
      "image/png": "[encoded data removed]",
      "text/plain": [
       "<matplotlib.figure.Figure at 0x10c4ff8d0>"
      ]
     },
     "metadata": {},
     "output_type": "display_data"
    }
   ],
   "source": [
    "trimed_prices = all_prices[:int(len(all_prices)*0.8)]\n",
    "formatx_100k(plt)\n",
    "\n",
    "plt.hist(trimed_prices, 50)\n",
    "plt.xlabel('price in $100K')\n",
    "plt.show()"
   ]
  },
  {
   "cell_type": "markdown",
   "metadata": {},
   "source": [
    "## Getting away from the money\n",
    "\n",
    "Let's try to get away from pure price and analyze the different groups in our data.\n",
    "Recall that our data is broken down into the following fields: `address`, `city`, `state`, `zip`, `price`, `sqft`, `bedrooms`, `bathrooms`, `days_on_zillow`, `sale_type`, `url`\n",
    "\n",
    "For the purposes of grouping, `zip`,`sqft`,`bedrooms`,`bathrooms`,`sale_type` will be the most relevant for us. Lets with zip code."
   ]
  },
  {
   "cell_type": "markdown",
   "metadata": {},
   "source": [
    "## Zip code\n",
    "\n",
    "The first thing that comes to mind with a zip code is to create some boxplots and compare them."
   ]
  },
  {
   "cell_type": "code",
   "execution_count": 12,
   "metadata": {
    "scrolled": false
   },
   "outputs": [
    {
     "data": {
      "image/png": "[encoded data removed]",
      "text/plain": [
       "<matplotlib.figure.Figure at 0x10c6dcfd0>"
      ]
     },
     "metadata": {},
     "output_type": "display_data"
    }
   ],
   "source": [
    "zip_price_dict = {}\n",
    "\n",
    "# iterate listings populating lists for each zip code\n",
    "for listing in listings:\n",
    "    if has_price(listing):\n",
    "        key = listing['zip']\n",
    "        if key in zip_price_dict:\n",
    "            zip_price_dict[key].append(float(listing['price']))\n",
    "        else:\n",
    "            zip_price_dict[key] = [float(listing['price'])]\n",
    "\n",
    "# parallel lists\n",
    "zips = []\n",
    "prices = []\n",
    "for k, v in zip_price_dict.items():\n",
    "    zips.append(k)\n",
    "    prices.append(v)\n",
    "    \n",
    "# formatting\n",
    "fig, ax = plt.subplots()\n",
    "fig.set_size_inches(15, 10)\n",
    "ax.yaxis.set_major_formatter(FuncFormatter(millions))\n",
    "plt.boxplot(prices, whis='range')\n",
    "ax.set_xticklabels(zips)\n",
    "plt.xticks(rotation=70)\n",
    "plt.show()"
   ]
  },
  {
   "cell_type": "markdown",
   "metadata": {},
   "source": [
    "Once again, our data is saturated by extremely high values. Howver, we can see that the outliers are usually in an alrady outstanding zip code. By implementing a similar search function as above, we can find out the area these zip codes represent."
   ]
  },
  {
   "cell_type": "code",
   "execution_count": 13,
   "metadata": {},
   "outputs": [
    {
     "name": "stdout",
     "output_type": "stream",
     "text": [
      "Rancho Santa Fe\n",
      "Del Mar\n",
      "La Jolla\n"
     ]
    }
   ],
   "source": [
    "def search_by_zip(z):\n",
    "    ret = []\n",
    "    for listing in listings:\n",
    "        if z == listing['zip']:\n",
    "            ret.append(listing)\n",
    "    return ret\n",
    "\n",
    "# zip codes with top 3 outliers\n",
    "for i in ['92067', '92014', '92037']:\n",
    "    arr = search_by_zip(i)\n",
    "    print(arr[0]['city'])"
   ]
  },
  {
   "cell_type": "markdown",
   "metadata": {},
   "source": [
    "This list should be no surpise to any San Diegan, nonetheless here it is backed by data."
   ]
  },
  {
   "cell_type": "markdown",
   "metadata": {},
   "source": [
    "Once again, let's make this data a little more relevant and trim off the top. We'll simply set a threshold of $3 Million to make it easy on ourselves"
   ]
  },
  {
   "cell_type": "code",
   "execution_count": 14,
   "metadata": {},
   "outputs": [
    {
     "data": {
      "image/png": "[encoded data removed]",
      "text/plain": [
       "<matplotlib.figure.Figure at 0x10c524dd8>"
      ]
     },
     "metadata": {},
     "output_type": "display_data"
    }
   ],
   "source": [
    "zip_price_dict = {}\n",
    "\n",
    "# iterate listings populating lists for each zip code\n",
    "for listing in listings:\n",
    "    # filter prices above threshold\n",
    "    if has_price(listing) and float(listing['price']) < 3e6:\n",
    "        key = listing['zip']\n",
    "        if key in zip_price_dict:\n",
    "            zip_price_dict[key].append(float(listing['price']))\n",
    "        else:\n",
    "            zip_price_dict[key] = [float(listing['price'])]\n",
    "\n",
    "# parallel lists\n",
    "zips = []\n",
    "prices = []\n",
    "for k, v in zip_price_dict.items():\n",
    "    zips.append(k)\n",
    "    prices.append(v)\n",
    "    \n",
    "# formatting\n",
    "fig, ax = plt.subplots()\n",
    "fig.set_size_inches(15, 10)\n",
    "ax.yaxis.set_major_formatter(FuncFormatter(millions))\n",
    "plt.boxplot(prices, whis='range')\n",
    "ax.set_xticklabels(zips)\n",
    "plt.xticks(rotation=70)\n",
    "plt.show()"
   ]
  },
  {
   "cell_type": "markdown",
   "metadata": {},
   "source": [
    "This visualization, while rough shows the relevant data in a more detailed fashion. It looks like a majority of zip codes have a median price around \\$500, while also having maximums above \\$1 Mil. Let's double check that:"
   ]
  },
  {
   "cell_type": "code",
   "execution_count": 15,
   "metadata": {},
   "outputs": [
    {
     "name": "stdout",
     "output_type": "stream",
     "text": [
      "zip count:  47\n",
      "median between $400K and $600K:  24 (51.06%)\n",
      "max over $1 Mil:  39 (82.98%)\n"
     ]
    }
   ],
   "source": [
    "# reuse the dict from above\n",
    "zip_count = len(zip_price_dict)\n",
    "print('zip count: ', zip_count)\n",
    "\n",
    "med_close_to_500k = 0\n",
    "max_over_mil = 0\n",
    "\n",
    "for k in zip_price_dict:\n",
    "    prices = zip_price_dict[k]\n",
    "    if abs(np.median(prices) - 5e5) < 1e5:\n",
    "        med_close_to_500k = med_close_to_500k + 1\n",
    "    if max(prices) > 1e6:\n",
    "        max_over_mil = max_over_mil + 1\n",
    "print('median between $400K and $600K: ', med_close_to_500k, '({:.2f}%)'.format(med_close_to_500k/zip_count * 100))\n",
    "print('max over $1 Mil: ', max_over_mil, '({:.2f}%)'.format(max_over_mil/zip_count * 100))\n",
    "        "
   ]
  },
  {
   "cell_type": "markdown",
   "metadata": {},
   "source": [
    "Just barely a majority for the median around $500k. But an astounding 87\\% of zip codes in San Diego have million dollar homes. Sadly, inter-city comparison are out of the scope of this document but I don't think many cities can compare with these numbers."
   ]
  },
  {
   "cell_type": "markdown",
   "metadata": {},
   "source": [
    "## Square-footage\n",
    "\n",
    "This field can be used in a few ways. \n",
    "* As a dependent variable with some input constraints such as price or number of bedrooms\n",
    "* As an independent variable to get a feel for the price of house with desired size\n",
    "* In the popular metric of dollars per square foot\n",
    "\n",
    "We'll go through all of them."
   ]
  },
  {
   "cell_type": "markdown",
   "metadata": {},
   "source": [
    "The following viusualization will be used to represent a buyer's interest, in this case it will be more aparent than previous filters as the search criteria will be stricter.\n",
    "\n",
    "We'll filter all houses which suit a buyer's necessity of 2 bedrooms and 3 bathrooms, and display the results in a histogram."
   ]
  },
  {
   "cell_type": "code",
   "execution_count": 16,
   "metadata": {},
   "outputs": [
    {
     "data": {
      "image/png": "[encoded data removed]",
      "text/plain": [
       "<matplotlib.figure.Figure at 0x10c746be0>"
      ]
     },
     "metadata": {},
     "output_type": "display_data"
    }
   ],
   "source": [
    "sqfts = []\n",
    "# list notation too verbose\n",
    "for listing in listings:\n",
    "    if 'NA' in [listing['sqft'], listing['bedrooms'], listing['bathrooms']]:\n",
    "        continue\n",
    "    if float(listing['bedrooms']) == 2 and float(listing['bathrooms']) == 3:\n",
    "        sqfts.append(float(listing['sqft']))\n",
    "\n",
    "plt.hist(sqfts, 20)\n",
    "plt.xlabel('sqft')\n",
    "plt.show()"
   ]
  },
  {
   "cell_type": "markdown",
   "metadata": {},
   "source": [
    "From this graph we can see that a 2 bedroom, 3 bath home will usually be around 1500 sqft. This might be handy when barganing... The same visualization can be done for price."
   ]
  },
  {
   "cell_type": "code",
   "execution_count": 17,
   "metadata": {},
   "outputs": [
    {
     "data": {
      "image/png": "[encoded data removed]",
      "text/plain": [
       "<matplotlib.figure.Figure at 0x10c8240f0>"
      ]
     },
     "metadata": {},
     "output_type": "display_data"
    }
   ],
   "source": [
    "prices = []\n",
    "# list notation too verbose\n",
    "for listing in listings:\n",
    "    if 'NA' in [listing['price'], listing['bedrooms'], listing['bathrooms']]:\n",
    "        continue\n",
    "    if float(listing['bedrooms']) == 2 and float(listing['bathrooms']) == 3:\n",
    "        sqfts.append(float(listing['price']))\n",
    "\n",
    "formatx_mil(plt)\n",
    "plt.hist(sqfts, 50)\n",
    "plt.xlabel('price')\n",
    "plt.xticks(rotation=70)\n",
    "plt.show()"
   ]
  },
  {
   "cell_type": "markdown",
   "metadata": {},
   "source": [
    "Here we find that the buyer could easily spend $1 Mil on this home. Now let's put these two together and see how much we'd have to pay for a desired size.\n",
    "\n",
    "This makes `sqft` the independent varible and it will be graphed on the x axis. `price` will be the dependent variable and graphed on the y-axis."
   ]
  },
  {
   "cell_type": "code",
   "execution_count": 18,
   "metadata": {},
   "outputs": [
    {
     "data": {
      "image/png": "[encoded data removed]",
      "text/plain": [
       "<matplotlib.figure.Figure at 0x10c703cc0>"
      ]
     },
     "metadata": {},
     "output_type": "display_data"
    }
   ],
   "source": [
    "# parallel arrays for plotting\n",
    "sqfts = []\n",
    "prices = []\n",
    "for listing in listings:\n",
    "    if 'NA' not in [listing['price'], listing['sqft']]:\n",
    "        sqfts.append(float(listing['sqft']))\n",
    "        prices.append(float(listing['price']))\n",
    "\n",
    "fig, ax = plt.subplots()\n",
    "fig.set_size_inches(10, 7)\n",
    "ax.yaxis.set_major_formatter(FuncFormatter(millions))\n",
    "plt.scatter(sqfts, prices, s=10)\n",
    "plt.xlabel('sqft')\n",
    "plt.ylabel('price')\n",
    "plt.show()"
   ]
  },
  {
   "cell_type": "code",
   "execution_count": 19,
   "metadata": {
    "scrolled": false
   },
   "outputs": [
    {
     "data": {
      "image/png": "[encoded data removed]",
      "text/plain": [
       "<matplotlib.figure.Figure at 0x10c47b438>"
      ]
     },
     "metadata": {},
     "output_type": "display_data"
    }
   ],
   "source": [
    "#linear regression\n",
    "fit = np.polyfit(sqfts, prices, 1)\n",
    "fit_fn = np.poly1d(fit)\n",
    "\n",
    "fig, ax = plt.subplots()\n",
    "fig.set_size_inches(10, 7)\n",
    "ax.yaxis.set_major_formatter(FuncFormatter(millions))\n",
    "plt.scatter(sqfts,prices, s=12)\n",
    "plt.plot(range(25000), fit_fn(range(25000)), color='orange')\n",
    "plt.xlabel('sqft')\n",
    "plt.ylabel('price')\n",
    "plt.show()"
   ]
  },
  {
   "cell_type": "code",
   "execution_count": null,
   "metadata": {
    "collapsed": true
   },
   "outputs": [],
   "source": []
  }
 ],
 "metadata": {
  "kernelspec": {
   "display_name": "Python 3",
   "language": "python",
   "name": "python3"
  },
  "language_info": {
   "codemirror_mode": {
    "name": "ipython",
    "version": 3
   },
   "file_extension": ".py",
   "mimetype": "text/x-python",
   "name": "python",
   "nbconvert_exporter": "python",
   "pygments_lexer": "ipython3",
   "version": "3.6.2"
  }
 },
 "nbformat": 4,
 "nbformat_minor": 2
}
